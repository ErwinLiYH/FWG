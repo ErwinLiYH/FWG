{
 "cells": [
  {
   "cell_type": "code",
   "execution_count": 1,
   "id": "1de6ff1b-b19d-4851-a4b7-55f13f427ad4",
   "metadata": {
    "tags": []
   },
   "outputs": [],
   "source": [
    "import os\n",
    "import sys\n",
    "sys.path.append(\"../src\")\n",
    "\n",
    "model_path = \"/home/kylis/Desktop/FYP/model\"\n",
    "data_path = \"/home/kylis/Desktop/FYP/data\"\n",
    "cache_path = \"/home/kylis/Desktop/FYP/cache\""
   ]
  },
  {
   "cell_type": "code",
   "execution_count": 2,
   "id": "30fd9702-8fb7-4b85-b9b2-80b48271f85d",
   "metadata": {
    "tags": []
   },
   "outputs": [],
   "source": [
    "from FWG import Corpus\n",
    "from FWG import utils\n",
    "from FWG import Concepts\n",
    "from FWG import Word\n",
    "from FWG import Model"
   ]
  },
  {
   "cell_type": "code",
   "execution_count": null,
   "id": "e663c5a6-f125-4d00-9051-2148e0412652",
   "metadata": {},
   "outputs": [],
   "source": [
    "probase = utils.init_probase(os.path.join(model_path, \"probase_bi\"), binary=True)"
   ]
  },
  {
   "cell_type": "code",
   "execution_count": null,
   "id": "60255255-0654-4c6c-bf11-4c241483b4fb",
   "metadata": {},
   "outputs": [],
   "source": [
    "utils.get_concept_prob(\"apple\", 20, probase=probase)"
   ]
  }
 ],
 "metadata": {
  "kernelspec": {
   "display_name": "Python 3 (ipykernel)",
   "language": "python",
   "name": "python3"
  },
  "language_info": {
   "codemirror_mode": {
    "name": "ipython",
    "version": 3
   },
   "file_extension": ".py",
   "mimetype": "text/x-python",
   "name": "python",
   "nbconvert_exporter": "python",
   "pygments_lexer": "ipython3",
   "version": "3.9.17"
  }
 },
 "nbformat": 4,
 "nbformat_minor": 5
}
