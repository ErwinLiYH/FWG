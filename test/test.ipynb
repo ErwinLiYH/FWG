{
 "cells": [
  {
   "cell_type": "code",
   "execution_count": 4,
   "id": "31805d38-af50-4fbc-b446-e28ea94f6697",
   "metadata": {},
   "outputs": [],
   "source": [
    "import os\n",
    "import sys\n",
    "sys.path.append(\"../src\")\n",
    "\n",
    "model_path = \"/home/kylis/Desktop/FYP/model\"\n",
    "data_path = \"/home/kylis/Desktop/FYP/data\"\n",
    "cache_path = \"/home/kylis/Desktop/FYP/cache\""
   ]
  },
  {
   "cell_type": "code",
   "execution_count": 5,
   "id": "b95970da-09ac-45c8-b4e1-2ec2208a031c",
   "metadata": {},
   "outputs": [],
   "source": [
    "from FWG import Corpus\n",
    "from FWG import utils\n",
    "from FWG import Concepts"
   ]
  },
  {
   "cell_type": "code",
   "execution_count": 6,
   "id": "97b6f97f-9df4-4af8-8713-62dac4d41425",
   "metadata": {},
   "outputs": [],
   "source": [
    "nlp = utils.init_spacy_nlp()\n",
    "probase = utils.init_probase(os.path.join(model_path, \"probase_bi\"), binary=True)\n",
    "probase_config = Concepts.Concept_conf(probase=probase, cache_path=os.path.join(cache_path, \"MCG\"))"
   ]
  },
  {
   "cell_type": "code",
   "execution_count": 7,
   "id": "789baef7-2f64-4907-9253-1fc032f8dedc",
   "metadata": {},
   "outputs": [],
   "source": [
    "comments = [\"I love apples, not the apple phone\", \"Green apple is a type of apple\", \"Apple is a kind of fuits, I like apple, I love apple\", \"Apple is a kind of fuits, I like apple, I love apple\"]"
   ]
  },
  {
   "cell_type": "code",
   "execution_count": 10,
   "id": "67d4cc38-562b-4d35-bdc6-f500792341e4",
   "metadata": {},
   "outputs": [
    {
     "name": "stderr",
     "output_type": "stream",
     "text": [
      "100%|█████████████████████████████████████████████| 4/4 [00:00<00:00, 18.32it/s]\n"
     ]
    },
    {
     "data": {
      "text/plain": [
       "<FWG.Corpus.Corpus at 0x7fdfdd7b3880>"
      ]
     },
     "execution_count": 10,
     "metadata": {},
     "output_type": "execute_result"
    }
   ],
   "source": [
    "c = Corpus.Corpus(comments, nlp, lexical_name=True, concepts_config=probase_config)\n",
    "c.concept_filter(path=os.path.join(cache_path, \"concept_filter.json\")).gen_td_vec()"
   ]
  },
  {
   "cell_type": "code",
   "execution_count": 15,
   "id": "06d5e528-06b9-46b4-bdee-d18d1bc68a22",
   "metadata": {},
   "outputs": [
    {
     "data": {
      "text/plain": [
       "('apple', {'token-doc': array([1., 1., 2., 2.])})"
      ]
     },
     "execution_count": 15,
     "metadata": {},
     "output_type": "execute_result"
    }
   ],
   "source": [
    "c.FD.content[0].lemma, c.FD.content[0].vecs"
   ]
  },
  {
   "cell_type": "code",
   "execution_count": 20,
   "id": "bd9af9aa-b9fb-49d2-b922-2b179ab79e83",
   "metadata": {},
   "outputs": [
    {
     "name": "stdout",
     "output_type": "stream",
     "text": [
      "{\n",
      "    \"string\": \"Apple is a *kind* of fuits, I like *apple*, I love *apple*\",\n",
      "    \"comment_id\": 3,\n",
      "    \"Words\": [\n",
      "        {\n",
      "            \"POS\": \"NN\",\n",
      "            \"tokens\": [\n",
      "                \"kind\"\n",
      "            ],\n",
      "            \"lemma\": \"kind\",\n",
      "            \"vecs\": {},\n",
      "            \"top_concept\": {\n",
      "                \"parameter\": 0.2169197396963124,\n",
      "                \"factor\": 0.1540130151843818,\n",
      "                \"word\": 0.14099783080260306,\n",
      "                \"adjective\": 0.04989154013015186,\n",
      "                \"personality trait\": 0.045553145336225606,\n",
      "                \"reaction condition\": 0.045553145336225606,\n",
      "                \"expression\": 0.03904555314533623,\n",
      "                \"characteristic\": 0.036876355748373106,\n",
      "                \"information\": 0.034707158351409986,\n",
      "                \"condition\": 0.030368763557483736,\n",
      "                \"term\": 0.023861171366594363,\n",
      "                \"trait\": 0.023861171366594363,\n",
      "                \"quality\": 0.023861171366594363,\n",
      "                \"basic scientific observation\": 0.023861171366594363,\n",
      "                \"categorizing word\": 0.021691973969631243,\n",
      "                \"datum\": 0.019522776572668116,\n",
      "                \"variable\": 0.017353579175704993,\n",
      "                \"laser irradiating condition\": 0.017353579175704993,\n",
      "                \"environmental condition\": 0.017353579175704993,\n",
      "                \"influencing factor\": 0.017353579175704993\n",
      "            },\n",
      "            \"key_concept_chain\": [],\n",
      "            \"key_concepts\": [],\n",
      "            \"count\": 1,\n",
      "            \"WN_laxical_names\": [\n",
      "                \"noun.cognition\"\n",
      "            ],\n",
      "            \"comment_id\": {\n",
      "                \"3\": 1\n",
      "            }\n",
      "        },\n",
      "        {\n",
      "            \"POS\": \"NN\",\n",
      "            \"tokens\": [\n",
      "                \"apple\"\n",
      "            ],\n",
      "            \"lemma\": \"apple\",\n",
      "            \"vecs\": {},\n",
      "            \"top_concept\": {\n",
      "                \"fruit\": 0.36380919460767375,\n",
      "                \"company\": 0.2507777393708953,\n",
      "                \"food\": 0.06636709298306258,\n",
      "                \"brand\": 0.044014287360294974,\n",
      "                \"fresh fruit\": 0.043207742827514696,\n",
      "                \"fruit tree\": 0.03272266390137113,\n",
      "                \"crop\": 0.027825786380919464,\n",
      "                \"corporation\": 0.01613089065560549,\n",
      "                \"manufacturer\": 0.016073280331835468,\n",
      "                \"firm\": 0.014805853208895037,\n",
      "                \"tech company\": 0.014633022237584977,\n",
      "                \"technology company\": 0.0144025809425049,\n",
      "                \"item\": 0.01428736029496486,\n",
      "                \"flavor\": 0.01267427122940431,\n",
      "                \"foodstuff\": 0.012328609286784193,\n",
      "                \"tech giant\": 0.012270998963014174,\n",
      "                \"climacteric fruit\": 0.011234013135153821,\n",
      "                \"player\": 0.0111764028113838,\n",
      "                \"juice\": 0.010715520221223645,\n",
      "                \"ingredient\": 0.010542689249913586\n",
      "            },\n",
      "            \"key_concept_chain\": [\n",
      "                [\n",
      "                    \"apple\",\n",
      "                    \"fruit\",\n",
      "                    \"food\"\n",
      "                ],\n",
      "                [\n",
      "                    \"apple\",\n",
      "                    \"food\"\n",
      "                ]\n",
      "            ],\n",
      "            \"key_concepts\": [\n",
      "                \"food\"\n",
      "            ],\n",
      "            \"count\": 2,\n",
      "            \"WN_laxical_names\": [\n",
      "                \"noun.food\",\n",
      "                \"noun.plant\"\n",
      "            ],\n",
      "            \"comment_id\": {\n",
      "                \"3\": 2\n",
      "            }\n",
      "        }\n",
      "    ],\n",
      "    \"Ngram\": []\n",
      "}\n"
     ]
    }
   ],
   "source": [
    "print(c.comments[3])"
   ]
  },
  {
   "cell_type": "code",
   "execution_count": null,
   "id": "9862dd96-adbb-4116-8d4a-a4cf7721b018",
   "metadata": {},
   "outputs": [],
   "source": []
  }
 ],
 "metadata": {
  "kernelspec": {
   "display_name": "Python 3 (ipykernel)",
   "language": "python",
   "name": "python3"
  },
  "language_info": {
   "codemirror_mode": {
    "name": "ipython",
    "version": 3
   },
   "file_extension": ".py",
   "mimetype": "text/x-python",
   "name": "python",
   "nbconvert_exporter": "python",
   "pygments_lexer": "ipython3",
   "version": "3.10.9"
  }
 },
 "nbformat": 4,
 "nbformat_minor": 5
}
