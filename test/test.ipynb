{
 "cells": [
  {
   "cell_type": "code",
   "execution_count": 1,
   "id": "31805d38-af50-4fbc-b446-e28ea94f6697",
   "metadata": {},
   "outputs": [],
   "source": [
    "import os\n",
    "import sys\n",
    "sys.path.append(\"../src\")\n",
    "\n",
    "model_path = \"/home/kylis/Desktop/FYP/model\"\n",
    "data_path = \"/home/kylis/Desktop/FYP/data\"\n",
    "cache_path = \"/home/kylis/Desktop/FYP/cache\""
   ]
  },
  {
   "cell_type": "code",
   "execution_count": 2,
   "id": "b95970da-09ac-45c8-b4e1-2ec2208a031c",
   "metadata": {},
   "outputs": [],
   "source": [
    "from FWG import Corpus\n",
    "from FWG import utils\n",
    "from FWG import Concepts\n",
    "from FWG import Word"
   ]
  },
  {
   "cell_type": "code",
   "execution_count": 3,
   "id": "aa2fc91e-b222-4697-8a76-2fd15ff8ecae",
   "metadata": {},
   "outputs": [],
   "source": [
    "nlp = utils.init_spacy_nlp()"
   ]
  },
  {
   "cell_type": "code",
   "execution_count": 4,
   "id": "97b6f97f-9df4-4af8-8713-62dac4d41425",
   "metadata": {},
   "outputs": [],
   "source": [
    "probase = utils.init_probase(os.path.join(model_path, \"probase_bi\"), binary=True)\n",
    "probase_config = Concepts.Concept_conf(probase=probase, cache_path=os.path.join(cache_path, \"MCG\"))"
   ]
  },
  {
   "cell_type": "code",
   "execution_count": 5,
   "id": "789baef7-2f64-4907-9253-1fc032f8dedc",
   "metadata": {},
   "outputs": [],
   "source": [
    "comments = [\"I love apples, not the apple phone\", \"Green apple is a type of apple\", \"Apple is a kind of fuits, I like apple, I love apple\", \"Apple is a kind of fuits, I like apple, I love apple\"]"
   ]
  },
  {
   "cell_type": "code",
   "execution_count": 6,
   "id": "67d4cc38-562b-4d35-bdc6-f500792341e4",
   "metadata": {},
   "outputs": [
    {
     "name": "stderr",
     "output_type": "stream",
     "text": [
      "100%|█████████████████████████████████████████████| 4/4 [00:00<00:00,  4.50it/s]\n"
     ]
    },
    {
     "data": {
      "text/plain": [
       "<FWG.Corpus.Corpus at 0x7fa78b9af250>"
      ]
     },
     "execution_count": 6,
     "metadata": {},
     "output_type": "execute_result"
    }
   ],
   "source": [
    "c = Corpus.Corpus(comments, nlp, lexical_name=True, concepts_config=probase_config)\n",
    "c.frequency_filter(path=os.path.join(cache_path, \"test.json\"), p_value=0.05)\n",
    "#.concept_filter(path=os.path.join(cache_path, \"concept_filter.json\"))"
   ]
  },
  {
   "cell_type": "code",
   "execution_count": 7,
   "id": "e65d6826-5b50-4676-93c0-85d796c7b6eb",
   "metadata": {},
   "outputs": [
    {
     "name": "stdout",
     "output_type": "stream",
     "text": [
      "[\n",
      "    {\n",
      "        \"POS\": \"NN\",\n",
      "        \"tokens\": [\n",
      "            \"apple\"\n",
      "        ],\n",
      "        \"lemma\": \"apple\",\n",
      "        \"vecs\": {\n",
      "            \"token-doc\": \"uint32:1,1,2,2\"\n",
      "        },\n",
      "        \"top_concept\": {\n",
      "            \"fruit\": 0.36380919460767375,\n",
      "            \"company\": 0.2507777393708953,\n",
      "            \"food\": 0.06636709298306258,\n",
      "            \"brand\": 0.044014287360294974,\n",
      "            \"fresh fruit\": 0.043207742827514696,\n",
      "            \"fruit tree\": 0.03272266390137113,\n",
      "            \"crop\": 0.027825786380919464,\n",
      "            \"corporation\": 0.01613089065560549,\n",
      "            \"manufacturer\": 0.016073280331835468,\n",
      "            \"firm\": 0.014805853208895037,\n",
      "            \"tech company\": 0.014633022237584977,\n",
      "            \"technology company\": 0.0144025809425049,\n",
      "            \"item\": 0.01428736029496486,\n",
      "            \"flavor\": 0.01267427122940431,\n",
      "            \"foodstuff\": 0.012328609286784193,\n",
      "            \"tech giant\": 0.012270998963014174,\n",
      "            \"climacteric fruit\": 0.011234013135153821,\n",
      "            \"player\": 0.0111764028113838,\n",
      "            \"juice\": 0.010715520221223645,\n",
      "            \"ingredient\": 0.010542689249913586\n",
      "        },\n",
      "        \"key_concept_chain\": [\n",
      "            [\n",
      "                \"apple\",\n",
      "                \"fruit\",\n",
      "                \"food\"\n",
      "            ],\n",
      "            [\n",
      "                \"apple\",\n",
      "                \"food\"\n",
      "            ]\n",
      "        ],\n",
      "        \"key_concepts\": [\n",
      "            \"food\"\n",
      "        ],\n",
      "        \"count\": 6,\n",
      "        \"WN_laxical_names\": [\n",
      "            \"noun.food\",\n",
      "            \"noun.plant\"\n",
      "        ],\n",
      "        \"comment_id\": {\n",
      "            \"0\": 1,\n",
      "            \"1\": 1,\n",
      "            \"2\": 2,\n",
      "            \"3\": 2\n",
      "        }\n",
      "    },\n",
      "    {\n",
      "        \"POS\": \"NP\",\n",
      "        \"tokens\": [\n",
      "            \"green apple\"\n",
      "        ],\n",
      "        \"lemma\": \"green apple\",\n",
      "        \"vecs\": {\n",
      "            \"token-doc\": \"uint32:0,1,0,0\"\n",
      "        },\n",
      "        \"top_concept\": {\n",
      "            \"flavor\": 0.1949685534591195,\n",
      "            \"food\": 0.11949685534591196,\n",
      "            \"fruit\": 0.10062893081761007,\n",
      "            \"green food\": 0.08805031446540881,\n",
      "            \"low sugar fruit\": 0.05660377358490567,\n",
      "            \"ingredient\": 0.050314465408805034,\n",
      "            \"category\": 0.04402515723270441,\n",
      "            \"label\": 0.031446540880503145,\n",
      "            \"scent\": 0.031446540880503145,\n",
      "            \"great flavor\": 0.031446540880503145,\n",
      "            \"funky flavor\": 0.031446540880503145,\n",
      "            \"boba\": 0.031446540880503145,\n",
      "            \"fresh fruit\": 0.025157232704402517,\n",
      "            \"colorful fruit\": 0.025157232704402517,\n",
      "            \"classic citrus flavor\": 0.025157232704402517,\n",
      "            \"sour fruit flavor\": 0.025157232704402517,\n",
      "            \"healthy juice\": 0.025157232704402517,\n",
      "            \"aroma\": 0.025157232704402517,\n",
      "            \"green\": 0.01886792452830189,\n",
      "            \"green fruit\": 0.01886792452830189\n",
      "        },\n",
      "        \"key_concept_chain\": [\n",
      "            [\n",
      "                \"green apple\",\n",
      "                \"flavor\"\n",
      "            ],\n",
      "            [\n",
      "                \"green apple\",\n",
      "                \"food\"\n",
      "            ],\n",
      "            [\n",
      "                \"green apple\",\n",
      "                \"fruit\",\n",
      "                \"food\"\n",
      "            ]\n",
      "        ],\n",
      "        \"key_concepts\": [\n",
      "            \"flavor\",\n",
      "            \"food\"\n",
      "        ],\n",
      "        \"count\": 1,\n",
      "        \"WN_laxical_names\": [\n",
      "            \"noun.food\",\n",
      "            \"noun.plant\"\n",
      "        ],\n",
      "        \"comment_id\": {\n",
      "            \"1\": 1\n",
      "        },\n",
      "        \"root\": \"apple\",\n",
      "        \"N\": 2\n",
      "    }\n",
      "]\n"
     ]
    }
   ],
   "source": [
    "print(c.FD)"
   ]
  },
  {
   "cell_type": "code",
   "execution_count": 8,
   "id": "3dd5e6b3-a9f6-44ec-bf7b-cad22bd5a348",
   "metadata": {},
   "outputs": [],
   "source": [
    "c.archive(cache_path)"
   ]
  },
  {
   "cell_type": "code",
   "execution_count": null,
   "id": "91249ec7-99f5-45bf-a9b4-009c20a76857",
   "metadata": {},
   "outputs": [],
   "source": []
  },
  {
   "cell_type": "code",
   "execution_count": 8,
   "id": "4e3ab09c-714c-483d-a55e-7f4a25c7072e",
   "metadata": {},
   "outputs": [
    {
     "name": "stdout",
     "output_type": "stream",
     "text": [
      "load following archives:\n",
      "/home/kylis/Desktop/FYP/cache/archive_comments_2023-03-07-234150.bi\n",
      "/home/kylis/Desktop/FYP/cache/archive_FD_2023-03-07-234150.bi\n",
      "/home/kylis/Desktop/FYP/cache/archive_key_2023-03-07-234150.bi\n"
     ]
    }
   ],
   "source": [
    "a = Corpus.Corpus_reload_bi(cache_path)"
   ]
  },
  {
   "cell_type": "code",
   "execution_count": 10,
   "id": "f9afe01c-0e40-42ef-8233-433d42caafb2",
   "metadata": {},
   "outputs": [
    {
     "name": "stdout",
     "output_type": "stream",
     "text": [
      "{\n",
      "    \"string\": \"I love apples, not the *apple* *phone*\",\n",
      "    \"comment_id\": 0,\n",
      "    \"Words\": [\n",
      "        {\n",
      "            \"POS\": \"NN\",\n",
      "            \"tokens\": [\n",
      "                \"apple\"\n",
      "            ],\n",
      "            \"lemma\": \"apple\",\n",
      "            \"vecs\": {},\n",
      "            \"top_concept\": {\n",
      "                \"fruit\": 0.36380919460767375,\n",
      "                \"company\": 0.2507777393708953,\n",
      "                \"food\": 0.06636709298306258,\n",
      "                \"brand\": 0.044014287360294974,\n",
      "                \"fresh fruit\": 0.043207742827514696,\n",
      "                \"fruit tree\": 0.03272266390137113,\n",
      "                \"crop\": 0.027825786380919464,\n",
      "                \"corporation\": 0.01613089065560549,\n",
      "                \"manufacturer\": 0.016073280331835468,\n",
      "                \"firm\": 0.014805853208895037,\n",
      "                \"tech company\": 0.014633022237584977,\n",
      "                \"technology company\": 0.0144025809425049,\n",
      "                \"item\": 0.01428736029496486,\n",
      "                \"flavor\": 0.01267427122940431,\n",
      "                \"foodstuff\": 0.012328609286784193,\n",
      "                \"tech giant\": 0.012270998963014174,\n",
      "                \"climacteric fruit\": 0.011234013135153821,\n",
      "                \"player\": 0.0111764028113838,\n",
      "                \"juice\": 0.010715520221223645,\n",
      "                \"ingredient\": 0.010542689249913586\n",
      "            },\n",
      "            \"key_concept_chain\": [\n",
      "                [\n",
      "                    \"apple\",\n",
      "                    \"fruit\",\n",
      "                    \"food\"\n",
      "                ],\n",
      "                [\n",
      "                    \"apple\",\n",
      "                    \"food\"\n",
      "                ]\n",
      "            ],\n",
      "            \"key_concepts\": [\n",
      "                \"food\"\n",
      "            ],\n",
      "            \"count\": 1,\n",
      "            \"WN_laxical_names\": [\n",
      "                \"noun.food\",\n",
      "                \"noun.plant\"\n",
      "            ],\n",
      "            \"comment_id\": {\n",
      "                \"0\": 1\n",
      "            }\n",
      "        },\n",
      "        {\n",
      "            \"POS\": \"NN\",\n",
      "            \"tokens\": [\n",
      "                \"phone\"\n",
      "            ],\n",
      "            \"lemma\": \"phone\",\n",
      "            \"vecs\": {},\n",
      "            \"top_concept\": {\n",
      "                \"device\": 0.1704572659803687,\n",
      "                \"mobile device\": 0.12999760593727558,\n",
      "                \"item\": 0.08474982044529566,\n",
      "                \"electronic device\": 0.08067991381374193,\n",
      "                \"information\": 0.06440028728752695,\n",
      "                \"service\": 0.054105817572420396,\n",
      "                \"distraction\": 0.054105817572420396,\n",
      "                \"contact information\": 0.0521905673928657,\n",
      "                \"personal information\": 0.041656691405314826,\n",
      "                \"utility\": 0.040459660043093135,\n",
      "                \"electronic\": 0.039741441225760114,\n",
      "                \"equipment\": 0.026813502513765866,\n",
      "                \"bill\": 0.02370122097198947,\n",
      "                \"expense\": 0.0220253770648791,\n",
      "                \"valuable\": 0.021785970792434765,\n",
      "                \"personal item\": 0.01963131434043572,\n",
      "                \"cost\": 0.019152501795547047,\n",
      "                \"facility\": 0.01819487670576969,\n",
      "                \"technology\": 0.01819487670576969,\n",
      "                \"amenity\": 0.017955470433325356\n",
      "            },\n",
      "            \"key_concept_chain\": [],\n",
      "            \"key_concepts\": [],\n",
      "            \"count\": 1,\n",
      "            \"WN_laxical_names\": [\n",
      "                \"noun.artifact\",\n",
      "                \"noun.communication\",\n",
      "                \"noun.artifact\"\n",
      "            ],\n",
      "            \"comment_id\": {\n",
      "                \"0\": 1\n",
      "            }\n",
      "        }\n",
      "    ],\n",
      "    \"Ngram\": []\n",
      "}\n"
     ]
    }
   ],
   "source": [
    "print(a.comments[0])"
   ]
  },
  {
   "cell_type": "code",
   "execution_count": null,
   "id": "39ff326d-91b6-4c81-b7d5-fd4aaff843ef",
   "metadata": {},
   "outputs": [],
   "source": [
    "a"
   ]
  },
  {
   "cell_type": "code",
   "execution_count": 6,
   "id": "a7e770e8-2771-4ad3-acbd-8af0726cb816",
   "metadata": {},
   "outputs": [],
   "source": [
    "x = c.FD.content[4].json_info()"
   ]
  },
  {
   "cell_type": "code",
   "execution_count": null,
   "id": "d9894e8f-8127-4988-bf6f-873ca6e356ee",
   "metadata": {},
   "outputs": [],
   "source": []
  },
  {
   "cell_type": "code",
   "execution_count": 7,
   "id": "4db12fc3-ac4a-4d09-a584-da5bec78d02f",
   "metadata": {},
   "outputs": [
    {
     "name": "stdout",
     "output_type": "stream",
     "text": [
      "{\n",
      "    \"POS\": \"NP\",\n",
      "    \"tokens\": [\n",
      "        \"green apple\"\n",
      "    ],\n",
      "    \"lemma\": \"green apple\",\n",
      "    \"vecs\": {\n",
      "        \"token-doc\": \"uint32:0,1,0,0\"\n",
      "    },\n",
      "    \"top_concept\": {},\n",
      "    \"key_concept_chain\": [],\n",
      "    \"key_concepts\": [],\n",
      "    \"count\": 1,\n",
      "    \"WN_laxical_names\": [\n",
      "        \"noun.food\",\n",
      "        \"noun.plant\"\n",
      "    ],\n",
      "    \"comment_id\": {\n",
      "        \"1\": 1\n",
      "    },\n",
      "    \"root\": \"apple\",\n",
      "    \"N\": 2\n",
      "}\n"
     ]
    }
   ],
   "source": [
    "print(x)"
   ]
  },
  {
   "cell_type": "code",
   "execution_count": 42,
   "id": "0a891eb3-d55b-4594-bfab-141da8d8113c",
   "metadata": {},
   "outputs": [
    {
     "data": {
      "text/plain": [
       "'[0,1,0,0]'"
      ]
     },
     "execution_count": 42,
     "metadata": {},
     "output_type": "execute_result"
    }
   ],
   "source": [
    "np.array2string(x.vecs[\"token-doc\"], separator=\",\", prefix=\"{\")"
   ]
  },
  {
   "cell_type": "code",
   "execution_count": 43,
   "id": "d2017c60-8277-47fe-9585-01456c9e977f",
   "metadata": {},
   "outputs": [
    {
     "data": {
      "text/plain": [
       "array([0, 1, 0, 0], dtype=uint32)"
      ]
     },
     "execution_count": 43,
     "metadata": {},
     "output_type": "execute_result"
    }
   ],
   "source": [
    "x.vecs[\"token-doc\"]"
   ]
  },
  {
   "cell_type": "code",
   "execution_count": 31,
   "id": "9fd9bba1-f23d-4df8-8687-0c0302adc643",
   "metadata": {},
   "outputs": [],
   "source": [
    "import numpy as np"
   ]
  },
  {
   "cell_type": "code",
   "execution_count": 35,
   "id": "5afc5456-8a8a-4a80-9a37-aab76449df0b",
   "metadata": {},
   "outputs": [
    {
     "data": {
      "text/plain": [
       "array([0, 1, 0, 0], dtype=uint32)"
      ]
     },
     "execution_count": 35,
     "metadata": {},
     "output_type": "execute_result"
    }
   ],
   "source": [
    "np.fromstring(\"0, 1, 0, 0\", sep=',', dtype=\"uint32\")"
   ]
  },
  {
   "cell_type": "code",
   "execution_count": 7,
   "id": "5a80c65e-abb3-4dbb-9a19-e0fbcf213bcf",
   "metadata": {},
   "outputs": [],
   "source": [
    "reload = Word.Word_reload(x)"
   ]
  },
  {
   "cell_type": "code",
   "execution_count": 8,
   "id": "aace6991-45be-42f1-a3ea-b18be8bf6020",
   "metadata": {},
   "outputs": [
    {
     "data": {
      "text/plain": [
       "{'token-doc': array([0, 1, 0, 0], dtype=uint32)}"
      ]
     },
     "execution_count": 8,
     "metadata": {},
     "output_type": "execute_result"
    }
   ],
   "source": [
    "reload.vecs"
   ]
  },
  {
   "cell_type": "code",
   "execution_count": 9,
   "id": "ad3c33a3-5a82-4156-9af2-afddc167ec8c",
   "metadata": {},
   "outputs": [
    {
     "name": "stdout",
     "output_type": "stream",
     "text": [
      "[\n",
      "    {\n",
      "        \"POS\": \"NN\",\n",
      "        \"tokens\": [\n",
      "            \"apple\"\n",
      "        ],\n",
      "        \"lemma\": \"apple\",\n",
      "        \"vecs\": {\n",
      "            \"token-doc\": \"1,1,2,2\"\n",
      "        },\n",
      "        \"top_concept\": {},\n",
      "        \"key_concept_chain\": [],\n",
      "        \"key_concepts\": [],\n",
      "        \"count\": 6,\n",
      "        \"WN_laxical_names\": [\n",
      "            \"noun.food\",\n",
      "            \"noun.plant\"\n",
      "        ],\n",
      "        \"comment_id\": {\n",
      "            \"0\": 1,\n",
      "            \"1\": 1,\n",
      "            \"2\": 2,\n",
      "            \"3\": 2\n",
      "        }\n",
      "    },\n",
      "    {\n",
      "        \"POS\": \"NN\",\n",
      "        \"tokens\": [\n",
      "            \"phone\"\n",
      "        ],\n",
      "        \"lemma\": \"phone\",\n",
      "        \"vecs\": {\n",
      "            \"token-doc\": \"1,0,0,0\"\n",
      "        },\n",
      "        \"top_concept\": {},\n",
      "        \"key_concept_chain\": [],\n",
      "        \"key_concepts\": [],\n",
      "        \"count\": 1,\n",
      "        \"WN_laxical_names\": [\n",
      "            \"noun.artifact\",\n",
      "            \"noun.communication\",\n",
      "            \"noun.artifact\"\n",
      "        ],\n",
      "        \"comment_id\": {\n",
      "            \"0\": 1\n",
      "        }\n",
      "    },\n",
      "    {\n",
      "        \"POS\": \"NN\",\n",
      "        \"tokens\": [\n",
      "            \"type\"\n",
      "        ],\n",
      "        \"lemma\": \"type\",\n",
      "        \"vecs\": {\n",
      "            \"token-doc\": \"0,1,0,0\"\n",
      "        },\n",
      "        \"top_concept\": {},\n",
      "        \"key_concept_chain\": [],\n",
      "        \"key_concepts\": [],\n",
      "        \"count\": 1,\n",
      "        \"WN_laxical_names\": [\n",
      "            \"noun.cognition\",\n",
      "            \"noun.person\",\n",
      "            \"noun.group\",\n",
      "            \"noun.communication\",\n",
      "            \"noun.communication\",\n",
      "            \"noun.artifact\"\n",
      "        ],\n",
      "        \"comment_id\": {\n",
      "            \"1\": 1\n",
      "        }\n",
      "    },\n",
      "    {\n",
      "        \"POS\": \"NN\",\n",
      "        \"tokens\": [\n",
      "            \"kind\"\n",
      "        ],\n",
      "        \"lemma\": \"kind\",\n",
      "        \"vecs\": {\n",
      "            \"token-doc\": \"0,0,1,1\"\n",
      "        },\n",
      "        \"top_concept\": {},\n",
      "        \"key_concept_chain\": [],\n",
      "        \"key_concepts\": [],\n",
      "        \"count\": 2,\n",
      "        \"WN_laxical_names\": [\n",
      "            \"noun.cognition\"\n",
      "        ],\n",
      "        \"comment_id\": {\n",
      "            \"2\": 1,\n",
      "            \"3\": 1\n",
      "        }\n",
      "    },\n",
      "    {\n",
      "        \"POS\": \"NP\",\n",
      "        \"tokens\": [\n",
      "            \"green apple\"\n",
      "        ],\n",
      "        \"lemma\": \"green apple\",\n",
      "        \"vecs\": {\n",
      "            \"token-doc\": \"0,1,0,0\"\n",
      "        },\n",
      "        \"top_concept\": {},\n",
      "        \"key_concept_chain\": [],\n",
      "        \"key_concepts\": [],\n",
      "        \"count\": 1,\n",
      "        \"WN_laxical_names\": [\n",
      "            \"noun.food\",\n",
      "            \"noun.plant\"\n",
      "        ],\n",
      "        \"comment_id\": {\n",
      "            \"1\": 1\n",
      "        },\n",
      "        \"root\": \"apple\",\n",
      "        \"N\": 2\n",
      "    }\n",
      "]\n"
     ]
    }
   ],
   "source": [
    "print(c.FD)"
   ]
  },
  {
   "cell_type": "code",
   "execution_count": 15,
   "id": "06d5e528-06b9-46b4-bdee-d18d1bc68a22",
   "metadata": {},
   "outputs": [
    {
     "data": {
      "text/plain": [
       "('apple', {'token-doc': array([1., 1., 2., 2.])})"
      ]
     },
     "execution_count": 15,
     "metadata": {},
     "output_type": "execute_result"
    }
   ],
   "source": [
    "c.FD.content[0].lemma, c.FD.content[0].vecs"
   ]
  },
  {
   "cell_type": "code",
   "execution_count": 20,
   "id": "bd9af9aa-b9fb-49d2-b922-2b179ab79e83",
   "metadata": {},
   "outputs": [
    {
     "name": "stdout",
     "output_type": "stream",
     "text": [
      "{\n",
      "    \"string\": \"Apple is a *kind* of fuits, I like *apple*, I love *apple*\",\n",
      "    \"comment_id\": 3,\n",
      "    \"Words\": [\n",
      "        {\n",
      "            \"POS\": \"NN\",\n",
      "            \"tokens\": [\n",
      "                \"kind\"\n",
      "            ],\n",
      "            \"lemma\": \"kind\",\n",
      "            \"vecs\": {},\n",
      "            \"top_concept\": {\n",
      "                \"parameter\": 0.2169197396963124,\n",
      "                \"factor\": 0.1540130151843818,\n",
      "                \"word\": 0.14099783080260306,\n",
      "                \"adjective\": 0.04989154013015186,\n",
      "                \"personality trait\": 0.045553145336225606,\n",
      "                \"reaction condition\": 0.045553145336225606,\n",
      "                \"expression\": 0.03904555314533623,\n",
      "                \"characteristic\": 0.036876355748373106,\n",
      "                \"information\": 0.034707158351409986,\n",
      "                \"condition\": 0.030368763557483736,\n",
      "                \"term\": 0.023861171366594363,\n",
      "                \"trait\": 0.023861171366594363,\n",
      "                \"quality\": 0.023861171366594363,\n",
      "                \"basic scientific observation\": 0.023861171366594363,\n",
      "                \"categorizing word\": 0.021691973969631243,\n",
      "                \"datum\": 0.019522776572668116,\n",
      "                \"variable\": 0.017353579175704993,\n",
      "                \"laser irradiating condition\": 0.017353579175704993,\n",
      "                \"environmental condition\": 0.017353579175704993,\n",
      "                \"influencing factor\": 0.017353579175704993\n",
      "            },\n",
      "            \"key_concept_chain\": [],\n",
      "            \"key_concepts\": [],\n",
      "            \"count\": 1,\n",
      "            \"WN_laxical_names\": [\n",
      "                \"noun.cognition\"\n",
      "            ],\n",
      "            \"comment_id\": {\n",
      "                \"3\": 1\n",
      "            }\n",
      "        },\n",
      "        {\n",
      "            \"POS\": \"NN\",\n",
      "            \"tokens\": [\n",
      "                \"apple\"\n",
      "            ],\n",
      "            \"lemma\": \"apple\",\n",
      "            \"vecs\": {},\n",
      "            \"top_concept\": {\n",
      "                \"fruit\": 0.36380919460767375,\n",
      "                \"company\": 0.2507777393708953,\n",
      "                \"food\": 0.06636709298306258,\n",
      "                \"brand\": 0.044014287360294974,\n",
      "                \"fresh fruit\": 0.043207742827514696,\n",
      "                \"fruit tree\": 0.03272266390137113,\n",
      "                \"crop\": 0.027825786380919464,\n",
      "                \"corporation\": 0.01613089065560549,\n",
      "                \"manufacturer\": 0.016073280331835468,\n",
      "                \"firm\": 0.014805853208895037,\n",
      "                \"tech company\": 0.014633022237584977,\n",
      "                \"technology company\": 0.0144025809425049,\n",
      "                \"item\": 0.01428736029496486,\n",
      "                \"flavor\": 0.01267427122940431,\n",
      "                \"foodstuff\": 0.012328609286784193,\n",
      "                \"tech giant\": 0.012270998963014174,\n",
      "                \"climacteric fruit\": 0.011234013135153821,\n",
      "                \"player\": 0.0111764028113838,\n",
      "                \"juice\": 0.010715520221223645,\n",
      "                \"ingredient\": 0.010542689249913586\n",
      "            },\n",
      "            \"key_concept_chain\": [\n",
      "                [\n",
      "                    \"apple\",\n",
      "                    \"fruit\",\n",
      "                    \"food\"\n",
      "                ],\n",
      "                [\n",
      "                    \"apple\",\n",
      "                    \"food\"\n",
      "                ]\n",
      "            ],\n",
      "            \"key_concepts\": [\n",
      "                \"food\"\n",
      "            ],\n",
      "            \"count\": 2,\n",
      "            \"WN_laxical_names\": [\n",
      "                \"noun.food\",\n",
      "                \"noun.plant\"\n",
      "            ],\n",
      "            \"comment_id\": {\n",
      "                \"3\": 2\n",
      "            }\n",
      "        }\n",
      "    ],\n",
      "    \"Ngram\": []\n",
      "}\n"
     ]
    }
   ],
   "source": [
    "print(c.comments[3])"
   ]
  },
  {
   "cell_type": "code",
   "execution_count": 10,
   "id": "9862dd96-adbb-4116-8d4a-a4cf7721b018",
   "metadata": {},
   "outputs": [],
   "source": [
    "import re"
   ]
  },
  {
   "cell_type": "code",
   "execution_count": 17,
   "id": "841ae0ea-5cad-4305-817c-77a3a6d14685",
   "metadata": {},
   "outputs": [
    {
     "data": {
      "text/plain": [
       "<re.Match object; span=(0, 33), match='archive_FD_2023-03-07-221650.json'>"
      ]
     },
     "execution_count": 17,
     "metadata": {},
     "output_type": "execute_result"
    }
   ],
   "source": [
    "re.fullmatch(\"archive_(comments|FD|key)_\\d+-\\d+-\\d+-\\d+\\.[a-zA-Z]+\", \"archive_FD_2023-03-07-221650.json\")"
   ]
  },
  {
   "cell_type": "code",
   "execution_count": 15,
   "id": "b4e2e5b9-8565-40b3-bb89-12348e284b29",
   "metadata": {},
   "outputs": [
    {
     "data": {
      "text/plain": [
       "<re.Match object; span=(0, 12), match='222-333-3333'>"
      ]
     },
     "execution_count": 15,
     "metadata": {},
     "output_type": "execute_result"
    }
   ],
   "source": [
    "re.fullmatch(\"\\d+-\\d+-\\d+\", \"222-333-3333\")"
   ]
  },
  {
   "cell_type": "code",
   "execution_count": null,
   "id": "51ab022a-1782-4c78-9a0f-ac443f43c84e",
   "metadata": {},
   "outputs": [],
   "source": []
  }
 ],
 "metadata": {
  "kernelspec": {
   "display_name": "Python 3 (ipykernel)",
   "language": "python",
   "name": "python3"
  },
  "language_info": {
   "codemirror_mode": {
    "name": "ipython",
    "version": 3
   },
   "file_extension": ".py",
   "mimetype": "text/x-python",
   "name": "python",
   "nbconvert_exporter": "python",
   "pygments_lexer": "ipython3",
   "version": "3.10.9"
  }
 },
 "nbformat": 4,
 "nbformat_minor": 5
}
