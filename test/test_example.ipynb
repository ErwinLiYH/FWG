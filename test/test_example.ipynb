{
 "cells": [
  {
   "cell_type": "code",
   "execution_count": null,
   "id": "31805d38-af50-4fbc-b446-e28ea94f6697",
   "metadata": {},
   "outputs": [],
   "source": [
    "import os\n",
    "import sys\n",
    "sys.path.append(\"../src\")\n",
    "\n",
    "model_path = \"/home/kylis/Desktop/FYP/model\"\n",
    "data_path = \"/home/kylis/Desktop/FYP/data\"\n",
    "cache_path = \"/home/kylis/Desktop/FYP/cache\""
   ]
  },
  {
   "cell_type": "code",
   "execution_count": null,
   "id": "b95970da-09ac-45c8-b4e1-2ec2208a031c",
   "metadata": {},
   "outputs": [],
   "source": [
    "from FWG import Corpus\n",
    "from FWG import utils\n",
    "from FWG import Concepts\n",
    "from FWG import Word\n",
    "from FWG import Model"
   ]
  },
  {
   "cell_type": "code",
   "execution_count": null,
   "id": "573335b6-b493-4515-a6cf-3546c9ab2971",
   "metadata": {},
   "outputs": [],
   "source": [
    "import Kkit"
   ]
  },
  {
   "cell_type": "code",
   "execution_count": null,
   "id": "1b6055f4-48d6-447a-bf95-320b447c6eac",
   "metadata": {},
   "outputs": [],
   "source": [
    "w2v = Model.Word2vec_model()"
   ]
  },
  {
   "cell_type": "code",
   "execution_count": null,
   "id": "dd1a2137-8f63-449e-8b5f-d144e3dae437",
   "metadata": {},
   "outputs": [],
   "source": [
    "w2v.list()"
   ]
  },
  {
   "cell_type": "code",
   "execution_count": null,
   "id": "6431a563-7949-4ca5-9549-d8f1033d9999",
   "metadata": {
    "tags": []
   },
   "outputs": [],
   "source": [
    "w2v.set_model(\"glove-wiki-gigaword-300\").load()"
   ]
  },
  {
   "cell_type": "code",
   "execution_count": null,
   "id": "1dad66fa-f048-43b1-8c43-41e19732b52c",
   "metadata": {},
   "outputs": [],
   "source": [
    "w2v.list()"
   ]
  },
  {
   "cell_type": "code",
   "execution_count": null,
   "id": "feb6ba78-ba13-4f3f-993d-345571b25fa2",
   "metadata": {},
   "outputs": [],
   "source": [
    "spell_checker = utils.init_enchant_Dict()"
   ]
  },
  {
   "cell_type": "code",
   "execution_count": null,
   "id": "aa2fc91e-b222-4697-8a76-2fd15ff8ecae",
   "metadata": {},
   "outputs": [],
   "source": [
    "nlp = utils.init_spacy_nlp()"
   ]
  },
  {
   "cell_type": "code",
   "execution_count": null,
   "id": "97b6f97f-9df4-4af8-8713-62dac4d41425",
   "metadata": {},
   "outputs": [],
   "source": [
    "probase = utils.init_probase(os.path.join(model_path, \"probase_bi\"), binary=True)\n",
    "probase_config = Concepts.Concept_conf(probase=probase, cache_path=os.path.join(cache_path, \"MCG\"))"
   ]
  },
  {
   "cell_type": "code",
   "execution_count": null,
   "id": "789baef7-2f64-4907-9253-1fc032f8dedc",
   "metadata": {},
   "outputs": [],
   "source": [
    "comments = Kkit.load(os.path.join(data_path, \"reviews.list\"))"
   ]
  },
  {
   "cell_type": "code",
   "execution_count": null,
   "id": "29c8a18b-2f22-4107-ac26-b19286bc643c",
   "metadata": {},
   "outputs": [],
   "source": [
    "len(comments)"
   ]
  },
  {
   "cell_type": "code",
   "execution_count": null,
   "id": "67d4cc38-562b-4d35-bdc6-f500792341e4",
   "metadata": {},
   "outputs": [],
   "source": [
    "c = Corpus.Corpus(comments, nlp, lexical_name=True, concepts_config=probase_config)"
   ]
  },
  {
   "cell_type": "code",
   "execution_count": null,
   "id": "3dd5e6b3-a9f6-44ec-bf7b-cad22bd5a348",
   "metadata": {},
   "outputs": [],
   "source": [
    "c.archive(cache_path)"
   ]
  },
  {
   "cell_type": "code",
   "execution_count": null,
   "id": "392debc9-f488-4459-85d8-e7d8acfbdcea",
   "metadata": {
    "tags": []
   },
   "outputs": [],
   "source": [
    "c.comments[10000].json_info()"
   ]
  },
  {
   "cell_type": "code",
   "execution_count": null,
   "id": "e66755af-7450-4f8e-95dd-6d31680f9211",
   "metadata": {},
   "outputs": [],
   "source": [
    "c.spell_filter(spell_checker).concept_filter().frequency_filter(0.5)"
   ]
  },
  {
   "cell_type": "code",
   "execution_count": null,
   "id": "b0c2e3db-844f-4ef1-8966-046735d0b588",
   "metadata": {},
   "outputs": [],
   "source": [
    "c.gen_td_vec().gen_tc_vec().gen_CA_vec().gen_PCA_vec().gen_GloVe_vec(w2v)"
   ]
  },
  {
   "cell_type": "code",
   "execution_count": null,
   "id": "bd07e177-cf98-4807-aeee-30422282d4f5",
   "metadata": {},
   "outputs": [],
   "source": [
    "len(c.FD.content)"
   ]
  },
  {
   "cell_type": "code",
   "execution_count": null,
   "id": "a0b53275-f01e-43e2-965b-8314f35073b1",
   "metadata": {
    "tags": []
   },
   "outputs": [],
   "source": [
    "Kkit.print_list(c.FD.content[0:10])"
   ]
  },
  {
   "cell_type": "code",
   "execution_count": null,
   "id": "1244b37f-bb83-4782-b184-6183eadbc8eb",
   "metadata": {
    "tags": []
   },
   "outputs": [],
   "source": [
    "print(w2v.error[0])"
   ]
  },
  {
   "cell_type": "code",
   "execution_count": null,
   "id": "b8f2f93f-17c3-41bd-8674-64a35e54b952",
   "metadata": {},
   "outputs": [],
   "source": []
  }
 ],
 "metadata": {
  "kernelspec": {
   "display_name": "Python 3 (ipykernel)",
   "language": "python",
   "name": "python3"
  },
  "language_info": {
   "codemirror_mode": {
    "name": "ipython",
    "version": 3
   },
   "file_extension": ".py",
   "mimetype": "text/x-python",
   "name": "python",
   "nbconvert_exporter": "python",
   "pygments_lexer": "ipython3",
   "version": "3.10.9"
  }
 },
 "nbformat": 4,
 "nbformat_minor": 5
}
