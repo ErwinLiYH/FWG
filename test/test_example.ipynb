{
 "cells": [
  {
   "cell_type": "code",
   "execution_count": 1,
   "id": "31805d38-af50-4fbc-b446-e28ea94f6697",
   "metadata": {},
   "outputs": [],
   "source": [
    "import os\n",
    "import sys\n",
    "sys.path.append(\"../src\")\n",
    "\n",
    "model_path = \"/home/kylis/Desktop/FYP/model\"\n",
    "data_path = \"/home/kylis/Desktop/FYP/data\"\n",
    "cache_path = \"/home/kylis/Desktop/FYP/cache\""
   ]
  },
  {
   "cell_type": "code",
   "execution_count": 2,
   "id": "b95970da-09ac-45c8-b4e1-2ec2208a031c",
   "metadata": {},
   "outputs": [],
   "source": [
    "from FWG import Corpus\n",
    "from FWG import utils\n",
    "from FWG import Concepts\n",
    "from FWG import Word"
   ]
  },
  {
   "cell_type": "code",
   "execution_count": 3,
   "id": "573335b6-b493-4515-a6cf-3546c9ab2971",
   "metadata": {},
   "outputs": [],
   "source": [
    "import Kkit"
   ]
  },
  {
   "cell_type": "code",
   "execution_count": 4,
   "id": "aa2fc91e-b222-4697-8a76-2fd15ff8ecae",
   "metadata": {},
   "outputs": [],
   "source": [
    "nlp = utils.init_spacy_nlp()"
   ]
  },
  {
   "cell_type": "code",
   "execution_count": 5,
   "id": "97b6f97f-9df4-4af8-8713-62dac4d41425",
   "metadata": {},
   "outputs": [],
   "source": [
    "probase = utils.init_probase(os.path.join(model_path, \"probase_bi\"), binary=True)\n",
    "probase_config = Concepts.Concept_conf(probase=probase, cache_path=os.path.join(cache_path, \"MCG\"))"
   ]
  },
  {
   "cell_type": "code",
   "execution_count": 6,
   "id": "789baef7-2f64-4907-9253-1fc032f8dedc",
   "metadata": {},
   "outputs": [],
   "source": [
    "comments = Kkit.load(os.path.join(data_path, \"reviews.list\"))"
   ]
  },
  {
   "cell_type": "code",
   "execution_count": 7,
   "id": "29c8a18b-2f22-4107-ac26-b19286bc643c",
   "metadata": {},
   "outputs": [
    {
     "data": {
      "text/plain": [
       "11513"
      ]
     },
     "execution_count": 7,
     "metadata": {},
     "output_type": "execute_result"
    }
   ],
   "source": [
    "len(comments)"
   ]
  },
  {
   "cell_type": "code",
   "execution_count": 8,
   "id": "67d4cc38-562b-4d35-bdc6-f500792341e4",
   "metadata": {},
   "outputs": [
    {
     "name": "stderr",
     "output_type": "stream",
     "text": [
      " 47%|█████████████████▊                    | 5395/11513 [04:30<05:06, 19.97it/s]\n"
     ]
    },
    {
     "ename": "KeyboardInterrupt",
     "evalue": "",
     "output_type": "error",
     "traceback": [
      "\u001b[0;31m---------------------------------------------------------------------------\u001b[0m",
      "\u001b[0;31mKeyboardInterrupt\u001b[0m                         Traceback (most recent call last)",
      "Cell \u001b[0;32mIn[8], line 1\u001b[0m\n\u001b[0;32m----> 1\u001b[0m c \u001b[38;5;241m=\u001b[39m \u001b[43mCorpus\u001b[49m\u001b[38;5;241;43m.\u001b[39;49m\u001b[43mCorpus\u001b[49m\u001b[43m(\u001b[49m\u001b[43mcomments\u001b[49m\u001b[43m,\u001b[49m\u001b[43m \u001b[49m\u001b[43mnlp\u001b[49m\u001b[43m,\u001b[49m\u001b[43m \u001b[49m\u001b[43mlexical_name\u001b[49m\u001b[38;5;241;43m=\u001b[39;49m\u001b[38;5;28;43;01mTrue\u001b[39;49;00m\u001b[43m,\u001b[49m\u001b[43m \u001b[49m\u001b[43mconcepts_config\u001b[49m\u001b[38;5;241;43m=\u001b[39;49m\u001b[43mprobase_config\u001b[49m\u001b[43m)\u001b[49m\n",
      "File \u001b[0;32m~/Desktop/git/FWG/test/../src/FWG/Corpus.py:27\u001b[0m, in \u001b[0;36mCorpus.__init__\u001b[0;34m(self, comments, nlp_model, POS_candidate, phrase, lexical_name, concepts_config, n_process, batch_size)\u001b[0m\n\u001b[1;32m     25\u001b[0m docs \u001b[38;5;241m=\u001b[39m [i \u001b[38;5;28;01mfor\u001b[39;00m i \u001b[38;5;129;01min\u001b[39;00m nlp_model\u001b[38;5;241m.\u001b[39mpipe(comments, n_process\u001b[38;5;241m=\u001b[39mn_process, batch_size\u001b[38;5;241m=\u001b[39mbatch_size)]\n\u001b[1;32m     26\u001b[0m \u001b[38;5;28;01mfor\u001b[39;00m index, doc \u001b[38;5;129;01min\u001b[39;00m \u001b[38;5;28menumerate\u001b[39m(tqdm(docs)):\n\u001b[0;32m---> 27\u001b[0m     new_comment \u001b[38;5;241m=\u001b[39m \u001b[43mComment\u001b[49m\u001b[38;5;241;43m.\u001b[39;49m\u001b[43mComment\u001b[49m\u001b[43m(\u001b[49m\u001b[43mdoc\u001b[49m\u001b[43m,\u001b[49m\u001b[43m \u001b[49m\u001b[43mindex\u001b[49m\u001b[43m,\u001b[49m\u001b[43m \u001b[49m\u001b[43mPOS_candidate\u001b[49m\u001b[43m,\u001b[49m\u001b[43m \u001b[49m\u001b[43mphrase\u001b[49m\u001b[43m,\u001b[49m\u001b[43m \u001b[49m\u001b[43mlexical_name\u001b[49m\u001b[43m,\u001b[49m\u001b[43m \u001b[49m\u001b[43mconcepts_config\u001b[49m\u001b[43m)\u001b[49m\n\u001b[1;32m     28\u001b[0m     \u001b[38;5;28mself\u001b[39m\u001b[38;5;241m.\u001b[39mcomments\u001b[38;5;241m.\u001b[39mappend(new_comment)\n\u001b[1;32m     29\u001b[0m     \u001b[38;5;28;01mfor\u001b[39;00m i \u001b[38;5;129;01min\u001b[39;00m new_comment\u001b[38;5;241m.\u001b[39mWords\u001b[38;5;241m.\u001b[39mcontent:\n",
      "File \u001b[0;32m~/Desktop/git/FWG/test/../src/FWG/Comment.py:35\u001b[0m, in \u001b[0;36mComment.__init__\u001b[0;34m(self, doc, comment_id, POS_candidate, phrase, lexical_name, concepts_config)\u001b[0m\n\u001b[1;32m     33\u001b[0m \u001b[38;5;28;01mfor\u001b[39;00m token \u001b[38;5;129;01min\u001b[39;00m tokens:\n\u001b[1;32m     34\u001b[0m     star_index\u001b[38;5;241m.\u001b[39mappend(token\u001b[38;5;241m.\u001b[39mi)\n\u001b[0;32m---> 35\u001b[0m     new_Word \u001b[38;5;241m=\u001b[39m \u001b[43mWord\u001b[49m\u001b[38;5;241;43m.\u001b[39;49m\u001b[43mWord\u001b[49m\u001b[43m(\u001b[49m\u001b[43mtoken\u001b[49m\u001b[38;5;241;43m.\u001b[39;49m\u001b[43mlower_\u001b[49m\u001b[43m,\u001b[49m\u001b[43m \u001b[49m\u001b[43mtoken\u001b[49m\u001b[38;5;241;43m.\u001b[39;49m\u001b[43mlemma_\u001b[49m\u001b[43m,\u001b[49m\u001b[43m \u001b[49m\u001b[43mtoken\u001b[49m\u001b[38;5;241;43m.\u001b[39;49m\u001b[43mtag_\u001b[49m\u001b[43m,\u001b[49m\u001b[43m \u001b[49m\u001b[43mcomment_id\u001b[49m\u001b[43m,\u001b[49m\u001b[43m \u001b[49m\u001b[43mlexical_name\u001b[49m\u001b[43m,\u001b[49m\u001b[43m \u001b[49m\u001b[43mconcepts_config\u001b[49m\u001b[43m)\u001b[49m\n\u001b[1;32m     36\u001b[0m     \u001b[38;5;28mself\u001b[39m\u001b[38;5;241m.\u001b[39mWords\u001b[38;5;241m.\u001b[39mappend(new_Word, deepcopy\u001b[38;5;241m=\u001b[39m\u001b[38;5;28;01mTrue\u001b[39;00m)\n\u001b[1;32m     37\u001b[0m \u001b[38;5;28;01mfor\u001b[39;00m i \u001b[38;5;129;01min\u001b[39;00m star_index:\n",
      "File \u001b[0;32m~/Desktop/git/FWG/test/../src/FWG/Word.py:71\u001b[0m, in \u001b[0;36mWord.__init__\u001b[0;34m(self, token, lemma, POS, comment_id, lexical_name, concepts_config)\u001b[0m\n\u001b[1;32m     68\u001b[0m     \u001b[38;5;28mself\u001b[39m\u001b[38;5;241m.\u001b[39mget_lexical_name()\n\u001b[1;32m     70\u001b[0m \u001b[38;5;28;01mif\u001b[39;00m concepts_config\u001b[38;5;241m!=\u001b[39m\u001b[38;5;28;01mNone\u001b[39;00m:\n\u001b[0;32m---> 71\u001b[0m     \u001b[38;5;28;43mself\u001b[39;49m\u001b[38;5;241;43m.\u001b[39;49m\u001b[43mget_concepts\u001b[49m\u001b[43m(\u001b[49m\u001b[43mconcepts_config\u001b[49m\u001b[43m)\u001b[49m\n",
      "File \u001b[0;32m~/Desktop/git/FWG/test/../src/FWG/Word.py:42\u001b[0m, in \u001b[0;36mW.get_concepts\u001b[0;34m(self, concepts_config)\u001b[0m\n\u001b[1;32m     40\u001b[0m \u001b[38;5;28;01mdef\u001b[39;00m \u001b[38;5;21mget_concepts\u001b[39m(\u001b[38;5;28mself\u001b[39m, concepts_config):\n\u001b[1;32m     41\u001b[0m     \u001b[38;5;28mself\u001b[39m\u001b[38;5;241m.\u001b[39mtop_concept \u001b[38;5;241m=\u001b[39m utils\u001b[38;5;241m.\u001b[39mget_concept_prob(\u001b[38;5;28mself\u001b[39m\u001b[38;5;241m.\u001b[39mlemma, num\u001b[38;5;241m=\u001b[39mconcepts_config\u001b[38;5;241m.\u001b[39mnum, cache_path\u001b[38;5;241m=\u001b[39mconcepts_config\u001b[38;5;241m.\u001b[39mcache_path, probase\u001b[38;5;241m=\u001b[39mconcepts_config\u001b[38;5;241m.\u001b[39mprobase)\n\u001b[0;32m---> 42\u001b[0m     \u001b[38;5;28mself\u001b[39m\u001b[38;5;241m.\u001b[39mkey_concept_chain \u001b[38;5;241m=\u001b[39m \u001b[43mutils\u001b[49m\u001b[38;5;241;43m.\u001b[39;49m\u001b[43mbuild_key_concept_chain\u001b[49m\u001b[43m(\u001b[49m\u001b[38;5;28;43mself\u001b[39;49m\u001b[38;5;241;43m.\u001b[39;49m\u001b[43mlemma\u001b[49m\u001b[43m,\u001b[49m\u001b[43m \u001b[49m\u001b[43mconcepts_config\u001b[49m\u001b[38;5;241;43m.\u001b[39;49m\u001b[43mlayers\u001b[49m\u001b[43m,\u001b[49m\u001b[43m \u001b[49m\u001b[43mcache_path\u001b[49m\u001b[38;5;241;43m=\u001b[39;49m\u001b[43mconcepts_config\u001b[49m\u001b[38;5;241;43m.\u001b[39;49m\u001b[43mcache_path\u001b[49m\u001b[43m,\u001b[49m\u001b[43m \u001b[49m\u001b[43mprobase\u001b[49m\u001b[43m \u001b[49m\u001b[38;5;241;43m=\u001b[39;49m\u001b[43m \u001b[49m\u001b[43mconcepts_config\u001b[49m\u001b[38;5;241;43m.\u001b[39;49m\u001b[43mprobase\u001b[49m\u001b[43m)\u001b[49m\n\u001b[1;32m     43\u001b[0m     \u001b[38;5;28mself\u001b[39m\u001b[38;5;241m.\u001b[39mkey_concepts \u001b[38;5;241m=\u001b[39m \u001b[38;5;28mlist\u001b[39m(\u001b[38;5;28mset\u001b[39m([i[\u001b[38;5;241m-\u001b[39m\u001b[38;5;241m1\u001b[39m] \u001b[38;5;28;01mfor\u001b[39;00m i \u001b[38;5;129;01min\u001b[39;00m \u001b[38;5;28mself\u001b[39m\u001b[38;5;241m.\u001b[39mkey_concept_chain]))\n",
      "File \u001b[0;32m~/Desktop/git/FWG/test/../src/FWG/utils.py:88\u001b[0m, in \u001b[0;36mbuild_key_concept_chain\u001b[0;34m(word, layers, cache_path, probase)\u001b[0m\n\u001b[1;32m     86\u001b[0m paths_new \u001b[38;5;241m=\u001b[39m []\n\u001b[1;32m     87\u001b[0m root \u001b[38;5;241m=\u001b[39m Concepts\u001b[38;5;241m.\u001b[39mNode(word, \u001b[38;5;241m1\u001b[39m)\n\u001b[0;32m---> 88\u001b[0m \u001b[43mConcepts\u001b[49m\u001b[38;5;241;43m.\u001b[39;49m\u001b[43mbuild_concept_tree\u001b[49m\u001b[43m(\u001b[49m\u001b[43mroot\u001b[49m\u001b[43m,\u001b[49m\u001b[43m \u001b[49m\u001b[43mlayers\u001b[49m\u001b[43m,\u001b[49m\u001b[43m \u001b[49m\u001b[38;5;241;43m0\u001b[39;49m\u001b[43m,\u001b[49m\u001b[43m \u001b[49m\u001b[43mcache_path\u001b[49m\u001b[43m,\u001b[49m\u001b[43m \u001b[49m\u001b[43mprobase\u001b[49m\u001b[43m)\u001b[49m\n\u001b[1;32m     89\u001b[0m Concepts\u001b[38;5;241m.\u001b[39mdeep_search_key_concept(root, [], paths)\n\u001b[1;32m     90\u001b[0m \u001b[38;5;28;01mfor\u001b[39;00m path \u001b[38;5;129;01min\u001b[39;00m paths:\n",
      "File \u001b[0;32m~/Desktop/git/FWG/test/../src/FWG/Concepts.py:30\u001b[0m, in \u001b[0;36mbuild_concept_tree\u001b[0;34m(word_node, layers, index, cache_path, probase)\u001b[0m\n\u001b[1;32m     28\u001b[0m         word_node\u001b[38;5;241m.\u001b[39mchildren\u001b[38;5;241m.\u001b[39mappend(Node(w,p))\n\u001b[1;32m     29\u001b[0m     \u001b[38;5;28;01mfor\u001b[39;00m n \u001b[38;5;129;01min\u001b[39;00m word_node\u001b[38;5;241m.\u001b[39mchildren:\n\u001b[0;32m---> 30\u001b[0m         \u001b[43mbuild_concept_tree\u001b[49m\u001b[43m(\u001b[49m\u001b[43mn\u001b[49m\u001b[43m,\u001b[49m\u001b[43m \u001b[49m\u001b[43mlayers\u001b[49m\u001b[43m,\u001b[49m\u001b[43m \u001b[49m\u001b[43mindex\u001b[49m\u001b[38;5;241;43m+\u001b[39;49m\u001b[38;5;241;43m1\u001b[39;49m\u001b[43m,\u001b[49m\u001b[43m \u001b[49m\u001b[43mcache_path\u001b[49m\u001b[43m,\u001b[49m\u001b[43m \u001b[49m\u001b[43mprobase\u001b[49m\u001b[43m)\u001b[49m\n\u001b[1;32m     31\u001b[0m \u001b[38;5;28;01melse\u001b[39;00m:\n\u001b[1;32m     32\u001b[0m     \u001b[38;5;28;01mreturn\u001b[39;00m\n",
      "File \u001b[0;32m~/Desktop/git/FWG/test/../src/FWG/Concepts.py:30\u001b[0m, in \u001b[0;36mbuild_concept_tree\u001b[0;34m(word_node, layers, index, cache_path, probase)\u001b[0m\n\u001b[1;32m     28\u001b[0m         word_node\u001b[38;5;241m.\u001b[39mchildren\u001b[38;5;241m.\u001b[39mappend(Node(w,p))\n\u001b[1;32m     29\u001b[0m     \u001b[38;5;28;01mfor\u001b[39;00m n \u001b[38;5;129;01min\u001b[39;00m word_node\u001b[38;5;241m.\u001b[39mchildren:\n\u001b[0;32m---> 30\u001b[0m         \u001b[43mbuild_concept_tree\u001b[49m\u001b[43m(\u001b[49m\u001b[43mn\u001b[49m\u001b[43m,\u001b[49m\u001b[43m \u001b[49m\u001b[43mlayers\u001b[49m\u001b[43m,\u001b[49m\u001b[43m \u001b[49m\u001b[43mindex\u001b[49m\u001b[38;5;241;43m+\u001b[39;49m\u001b[38;5;241;43m1\u001b[39;49m\u001b[43m,\u001b[49m\u001b[43m \u001b[49m\u001b[43mcache_path\u001b[49m\u001b[43m,\u001b[49m\u001b[43m \u001b[49m\u001b[43mprobase\u001b[49m\u001b[43m)\u001b[49m\n\u001b[1;32m     31\u001b[0m \u001b[38;5;28;01melse\u001b[39;00m:\n\u001b[1;32m     32\u001b[0m     \u001b[38;5;28;01mreturn\u001b[39;00m\n",
      "File \u001b[0;32m~/Desktop/git/FWG/test/../src/FWG/Concepts.py:25\u001b[0m, in \u001b[0;36mbuild_concept_tree\u001b[0;34m(word_node, layers, index, cache_path, probase)\u001b[0m\n\u001b[1;32m     23\u001b[0m \u001b[38;5;28;01mif\u001b[39;00m index \u001b[38;5;241m>\u001b[39m\u001b[38;5;241m=\u001b[39m \u001b[38;5;28mlen\u001b[39m(layers):\n\u001b[1;32m     24\u001b[0m     \u001b[38;5;28;01mreturn\u001b[39;00m\n\u001b[0;32m---> 25\u001b[0m temp \u001b[38;5;241m=\u001b[39m \u001b[43mutils\u001b[49m\u001b[38;5;241;43m.\u001b[39;49m\u001b[43mget_concept_prob\u001b[49m\u001b[43m(\u001b[49m\u001b[43mword_node\u001b[49m\u001b[38;5;241;43m.\u001b[39;49m\u001b[43mword\u001b[49m\u001b[43m,\u001b[49m\u001b[43m \u001b[49m\u001b[43mlayers\u001b[49m\u001b[43m[\u001b[49m\u001b[43mindex\u001b[49m\u001b[43m]\u001b[49m\u001b[43m,\u001b[49m\u001b[43m \u001b[49m\u001b[43mcache_path\u001b[49m\u001b[43m,\u001b[49m\u001b[43m \u001b[49m\u001b[43mprobase\u001b[49m\u001b[43m)\u001b[49m\n\u001b[1;32m     26\u001b[0m \u001b[38;5;28;01mif\u001b[39;00m \u001b[38;5;28mlen\u001b[39m(temp)\u001b[38;5;241m!=\u001b[39m\u001b[38;5;241m0\u001b[39m:\n\u001b[1;32m     27\u001b[0m     \u001b[38;5;28;01mfor\u001b[39;00m w,p \u001b[38;5;129;01min\u001b[39;00m temp\u001b[38;5;241m.\u001b[39mitems():\n",
      "File \u001b[0;32m~/Desktop/git/FWG/test/../src/FWG/utils.py:76\u001b[0m, in \u001b[0;36mget_concept_prob\u001b[0;34m(word, num, cache_path, probase)\u001b[0m\n\u001b[1;32m     74\u001b[0m \u001b[38;5;28;01melse\u001b[39;00m:\n\u001b[1;32m     75\u001b[0m     res \u001b[38;5;241m=\u001b[39m {}\n\u001b[0;32m---> 76\u001b[0m     concept_list \u001b[38;5;241m=\u001b[39m \u001b[43mprobase\u001b[49m\u001b[38;5;241;43m.\u001b[39;49m\u001b[43mconceptualize\u001b[49m\u001b[43m(\u001b[49m\u001b[43mword\u001b[49m\u001b[43m,\u001b[49m\u001b[43m \u001b[49m\u001b[43mscore_method\u001b[49m\u001b[38;5;241;43m=\u001b[39;49m\u001b[38;5;124;43m\"\u001b[39;49m\u001b[38;5;124;43mlikelihood\u001b[39;49m\u001b[38;5;124;43m\"\u001b[39;49m\u001b[43m)\u001b[49m[:num]\n\u001b[1;32m     77\u001b[0m     total \u001b[38;5;241m=\u001b[39m \u001b[38;5;241m0\u001b[39m\n\u001b[1;32m     78\u001b[0m     \u001b[38;5;28;01mfor\u001b[39;00m i \u001b[38;5;129;01min\u001b[39;00m concept_list:\n",
      "File \u001b[0;32m~/Desktop/git/FWG/test/../src/FWG/Probase.py:67\u001b[0m, in \u001b[0;36mProbaseConcept.conceptualize\u001b[0;34m(self, instance, score_method)\u001b[0m\n\u001b[1;32m     65\u001b[0m     \u001b[38;5;28;01melse\u001b[39;00m:\n\u001b[1;32m     66\u001b[0m         \u001b[38;5;28;01mraise\u001b[39;00m \u001b[38;5;167;01mNotImplementedError\u001b[39;00m\n\u001b[0;32m---> 67\u001b[0m     \u001b[43mrst_list\u001b[49m\u001b[38;5;241;43m.\u001b[39;49m\u001b[43mappend\u001b[49m\u001b[43m(\u001b[49m\u001b[43m(\u001b[49m\u001b[38;5;28;43mself\u001b[39;49m\u001b[38;5;241;43m.\u001b[39;49m\u001b[43midx2concept\u001b[49m\u001b[43m[\u001b[49m\u001b[43mconcept_idx\u001b[49m\u001b[43m]\u001b[49m\u001b[43m,\u001b[49m\u001b[43m \u001b[49m\u001b[43mscore\u001b[49m\u001b[43m)\u001b[49m\u001b[43m)\u001b[49m\n\u001b[1;32m     68\u001b[0m rst_list\u001b[38;5;241m.\u001b[39msort(key\u001b[38;5;241m=\u001b[39m\u001b[38;5;28;01mlambda\u001b[39;00m x: x[\u001b[38;5;241m1\u001b[39m], reverse\u001b[38;5;241m=\u001b[39m\u001b[38;5;28;01mTrue\u001b[39;00m)\n\u001b[1;32m     69\u001b[0m \u001b[38;5;28;01mreturn\u001b[39;00m rst_list\n",
      "\u001b[0;31mKeyboardInterrupt\u001b[0m: "
     ]
    }
   ],
   "source": [
    "c = Corpus.Corpus(comments, nlp, lexical_name=True, concepts_config=probase_config)"
   ]
  },
  {
   "cell_type": "code",
   "execution_count": null,
   "id": "3dd5e6b3-a9f6-44ec-bf7b-cad22bd5a348",
   "metadata": {},
   "outputs": [],
   "source": [
    "c.archive(cache_path)"
   ]
  },
  {
   "cell_type": "code",
   "execution_count": null,
   "id": "392debc9-f488-4459-85d8-e7d8acfbdcea",
   "metadata": {},
   "outputs": [],
   "source": [
    "c.comments[0].json_info()"
   ]
  },
  {
   "cell_type": "code",
   "execution_count": null,
   "id": "e66755af-7450-4f8e-95dd-6d31680f9211",
   "metadata": {},
   "outputs": [],
   "source": []
  }
 ],
 "metadata": {
  "kernelspec": {
   "display_name": "Python 3 (ipykernel)",
   "language": "python",
   "name": "python3"
  },
  "language_info": {
   "codemirror_mode": {
    "name": "ipython",
    "version": 3
   },
   "file_extension": ".py",
   "mimetype": "text/x-python",
   "name": "python",
   "nbconvert_exporter": "python",
   "pygments_lexer": "ipython3",
   "version": "3.10.9"
  }
 },
 "nbformat": 4,
 "nbformat_minor": 5
}
